{
 "cells": [
  {
   "cell_type": "code",
   "execution_count": 4,
   "id": "698e3c92-0744-45b6-909d-39edb34431ff",
   "metadata": {},
   "outputs": [
    {
     "name": "stdin",
     "output_type": "stream",
     "text": [
      "Enter a number:  89854\n"
     ]
    },
    {
     "name": "stdout",
     "output_type": "stream",
     "text": [
      "Total digits are:  5\n"
     ]
    }
   ],
   "source": [
    "n = int(input(\"Enter a number: \"))\n",
    "c = 0\n",
    "while n > 0:\n",
    "    a = n % 10\n",
    "    c += 1\n",
    "    n = n // 10\n",
    "\n",
    "rint(\"Total digits are: \",c)"
   ]
  },
  {
   "cell_type": "code",
   "execution_count": 7,
   "id": "e8b4254f-557b-41f0-a578-49af3cc041c1",
   "metadata": {},
   "outputs": [
    {
     "name": "stdin",
     "output_type": "stream",
     "text": [
      "Enter a number:  123\n"
     ]
    },
    {
     "name": "stdout",
     "output_type": "stream",
     "text": [
      "321"
     ]
    }
   ],
   "source": [
    "n = int(input(\"Enter a number: \"))\n",
    "while n > 0:\n",
    "    a = n % 10\n",
    "    c += 1\n",
    "    n = n // 10\n",
    "    print(a,end='')\n",
    "\n"
   ]
  },
  {
   "cell_type": "code",
   "execution_count": 12,
   "id": "d717007a-4f5e-4d9a-8fce-e358ccc7889a",
   "metadata": {},
   "outputs": [
    {
     "name": "stdin",
     "output_type": "stream",
     "text": [
      "enter a number 121\n"
     ]
    },
    {
     "name": "stdout",
     "output_type": "stream",
     "text": [
      "pall\n"
     ]
    }
   ],
   "source": [
    "n=int(input(\"enter a number\"))\n",
    "org=n\n",
    "c=0\n",
    "while(n>0):\n",
    "    r=n%10\n",
    "    c=c*10+r\n",
    "    n=n//10\n",
    "if(org==c):\n",
    "    print(\"pall\")\n",
    "else:\n",
    "    print(\"not padll\")\n"
   ]
  },
  {
   "cell_type": "code",
   "execution_count": null,
   "id": "f541d7ec-8ee5-47a6-8200-03af65e97c6b",
   "metadata": {},
   "outputs": [],
   "source": [
    "n = int(input(\"Enter a number: \"))\n",
    "org = n\n",
    "c=0;s=0\n",
    "while n > 0:\n",
    "    a = n % 10\n",
    "    c += 1\n",
    "    n = n // 10\n",
    "    print(a,end='')\n"
   ]
  },
  {
   "cell_type": "code",
   "execution_count": null,
   "id": "74297e6d-92f9-46e5-98cd-c53f5bec8b51",
   "metadata": {},
   "outputs": [],
   "source": []
  }
 ],
 "metadata": {
  "kernelspec": {
   "display_name": "Python 3 (ipykernel)",
   "language": "python",
   "name": "python3"
  },
  "language_info": {
   "codemirror_mode": {
    "name": "ipython",
    "version": 3
   },
   "file_extension": ".py",
   "mimetype": "text/x-python",
   "name": "python",
   "nbconvert_exporter": "python",
   "pygments_lexer": "ipython3",
   "version": "3.12.3"
  }
 },
 "nbformat": 4,
 "nbformat_minor": 5
}
